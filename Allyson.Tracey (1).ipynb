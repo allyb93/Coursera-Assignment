{
 "cells": [
  {
   "cell_type": "markdown",
   "id": "3d5d8bcb-6866-49d6-92cf-cff231317459",
   "metadata": {},
   "source": [
    "# My Jupyter Notebook on IBM Watson Studio"
   ]
  },
  {
   "cell_type": "markdown",
   "id": "9763842c-51b2-49fc-9267-77c963450b0d",
   "metadata": {},
   "source": [
    "__Allyson Tracey__\n",
    "Data scientist for education sector"
   ]
  },
  {
   "cell_type": "markdown",
   "id": "d3370146-a66c-4abb-9547-1ed46ff471b6",
   "metadata": {
    "tags": []
   },
   "source": [
    "*I am interested in data science because I would like to be a part of revolutionizing how an institution performs, by suggesting innovative methods. I want to see the education sector become equitable for all students, irrespective of background.*"
   ]
  },
  {
   "cell_type": "markdown",
   "id": "4c6cb3f1-9939-40e4-9385-11fe12c0a23f",
   "metadata": {
    "tags": []
   },
   "source": [
    "### The code in cell 5 is meant to calculate the sum of 2 and 3"
   ]
  },
  {
   "cell_type": "code",
   "execution_count": 11,
   "id": "ea269880-eb61-4dd8-a4c2-bb101737a958",
   "metadata": {},
   "outputs": [
    {
     "name": "stdout",
     "output_type": "stream",
     "text": [
      "5\n"
     ]
    }
   ],
   "source": [
    "sum = 2 + 3\n",
    "print (sum)"
   ]
  },
  {
   "cell_type": "markdown",
   "id": "0b10d6ef-0c65-49c2-855c-b9fdb9539c0e",
   "metadata": {},
   "source": [
    "1. This\n",
    "2. Is\n",
    "3. A\n",
    "4. Numbered\n",
    "5. List\n",
    "\n",
    "<https://developer.ibm.com/components/watson-studio/>\n",
    "\n",
    "The above is a URL and the following is text with ~~strikethrough~~\n"
   ]
  },
  {
   "cell_type": "code",
   "execution_count": null,
   "id": "c7a3a127-88ea-4d66-bd73-febd5b7e2baf",
   "metadata": {},
   "outputs": [],
   "source": []
  }
 ],
 "metadata": {
  "kernelspec": {
   "display_name": "Python",
   "language": "python",
   "name": "conda-env-python-py"
  },
  "language_info": {
   "codemirror_mode": {
    "name": "ipython",
    "version": 3
   },
   "file_extension": ".py",
   "mimetype": "text/x-python",
   "name": "python",
   "nbconvert_exporter": "python",
   "pygments_lexer": "ipython3",
   "version": "3.7.12"
  }
 },
 "nbformat": 4,
 "nbformat_minor": 5
}
